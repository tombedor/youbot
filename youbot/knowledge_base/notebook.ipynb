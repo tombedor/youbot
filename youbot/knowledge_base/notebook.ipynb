{
 "cells": [
  {
   "cell_type": "code",
   "execution_count": null,
   "metadata": {},
   "outputs": [],
   "source": [
    "import os\n",
    "import pickle\n",
    "\n",
    "from youbot import CACHE_DIR\n",
    "\n",
    "\n",
    "filename = os.path.join(CACHE_DIR, \"knowledge_base_entities.pkl\")\n",
    "\n",
    "with open(filename, \"rb\") as f:\n",
    "    entities = pickle.load(f)\n",
    "\n",
    "for entity in entities:\n",
    "    print(entity.description())\n",
    "\n",
    "\n",
    "x = entities[0]\n",
    "\n",
    "# x[0].facts\n",
    "\n",
    "facts = x.facts\n",
    "\n",
    "# for f in facts:\n",
    "# print(f)"
   ]
  }
 ],
 "metadata": {
  "kernelspec": {
   "display_name": ".venv",
   "language": "python",
   "name": "python3"
  },
  "language_info": {
   "codemirror_mode": {
    "name": "ipython",
    "version": 3
   },
   "file_extension": ".py",
   "mimetype": "text/x-python",
   "name": "python",
   "nbconvert_exporter": "python",
   "pygments_lexer": "ipython3",
   "version": "3.11.7"
  }
 },
 "nbformat": 4,
 "nbformat_minor": 2
}
