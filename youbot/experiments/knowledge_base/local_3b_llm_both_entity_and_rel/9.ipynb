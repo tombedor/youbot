{
 "cells": [
  {
   "cell_type": "markdown",
   "metadata": {},
   "source": [
    "# Setup"
   ]
  },
  {
   "cell_type": "markdown",
   "metadata": {},
   "source": [
    "## pipeline config"
   ]
  },
  {
   "cell_type": "code",
   "execution_count": 5,
   "metadata": {
    "metadata": {}
   },
   "outputs": [],
   "source": [
    "CONFIG_CONTENT = \"\"\"\n",
    "[nlp]\n",
    "lang = \"en\"\n",
    "pipeline = [\"llm_ner\", \"llm_rel\"]\n",
    "\n",
    "[components]\n",
    "\n",
    "[components.llm_ner]\n",
    "factory=\"llm\"\n",
    "\n",
    "[components.llm_ner.model]\n",
    "@llm_models = \"spacy.Local.v1\"\n",
    "\n",
    "[components.llm_ner.task]\n",
    "@llm_tasks = \"spacy.NER.v3\"\n",
    "labels = [\"PERSON\", \"ORG\", \"GPE\", \"LOC\", \"PRODUCT\", \"EVENT\", \"WORK_OF_ART\", \"DATE\", \"TIME\", \"PERCENT\", \"MONEY\", \"QUANTITY\", \"ORDINAL\", \"CARDINAL\", \"PET\", \"TECHNICAL_CONCEPT\"]\n",
    "\n",
    "\n",
    "[components.llm_rel]\n",
    "factory = \"llm\"\n",
    "\n",
    "[components.llm_rel.model]\n",
    "@llm_models = \"spacy.Local.v1\"\n",
    "\n",
    "[components.llm_rel.task]\n",
    "@llm_tasks = \"spacy.REL.v1\"\n",
    "labels = [\"is a romantic partner of\", \"is employed by\", \"is pet owner of\", \"lives in\", \"works on\", \"is a friend of\", \"has duration\", \"is a relative of\"]\n",
    "\"\"\"\n",
    "\n",
    "\n",
    "with open('config.cfg', 'w') as f:\n",
    "    f.write(CONFIG_CONTENT)\n",
    "    \n",
    "    \n",
    "DATA_SOURCE_DIR = '/datasets/data_pkl'\n"
   ]
  },
  {
   "cell_type": "markdown",
   "metadata": {},
   "source": [
    "## install requirements"
   ]
  },
  {
   "cell_type": "code",
   "execution_count": 6,
   "metadata": {
    "metadata": {}
   },
   "outputs": [],
   "source": [
    "REQUIREMENTS_CONTENT=\"\"\"\n",
    "spacy-llm @ git+https://github.com/tombedor/spacy-llm.git@0dba69841d68e31e9360bcf47035166516aadeb2\n",
    "torch==2.3.0\n",
    "transformers==4.40.1\n",
    "sentencepiece\n",
    "pandas\n",
    "\"\"\"\n",
    "\n",
    "with open('requirements.txt', 'w') as f:\n",
    "    f.write(REQUIREMENTS_CONTENT)"
   ]
  },
  {
   "cell_type": "code",
   "execution_count": 7,
   "metadata": {
    "metadata": {},
    "vscode": {
     "languageId": "shellscript"
    }
   },
   "outputs": [
    {
     "name": "stdout",
     "output_type": "stream",
     "text": [
      "Collecting spacy-llm@ git+https://github.com/tombedor/spacy-llm.git@0dba69841d68e31e9360bcf47035166516aadeb2 (from -r requirements.txt (line 2))\n",
      "  Cloning https://github.com/tombedor/spacy-llm.git (to revision 0dba69841d68e31e9360bcf47035166516aadeb2) to /private/var/folders/8x/lhh8gmz10ts3rv_qd0jk3tyc0000gn/T/pip-install-kyyu9tye/spacy-llm_e62d94a99af5487e9ac22ff90e0d0862\n",
      "  Running command git clone --filter=blob:none --quiet https://github.com/tombedor/spacy-llm.git /private/var/folders/8x/lhh8gmz10ts3rv_qd0jk3tyc0000gn/T/pip-install-kyyu9tye/spacy-llm_e62d94a99af5487e9ac22ff90e0d0862\n",
      "  Running command git rev-parse -q --verify 'sha^0dba69841d68e31e9360bcf47035166516aadeb2'\n",
      "  Running command git fetch -q https://github.com/tombedor/spacy-llm.git 0dba69841d68e31e9360bcf47035166516aadeb2\n",
      "  Resolved https://github.com/tombedor/spacy-llm.git to commit 0dba69841d68e31e9360bcf47035166516aadeb2\n",
      "  Installing build dependencies ... \u001b[?25ldone\n",
      "\u001b[?25h  Getting requirements to build wheel ... \u001b[?25ldone\n",
      "\u001b[?25h  Preparing metadata (pyproject.toml) ... \u001b[?25ldone\n",
      "\u001b[?25hRequirement already satisfied: torch==2.3.0 in /Users/tombedor/.pyenv/versions/3.11.7/lib/python3.11/site-packages (from -r requirements.txt (line 3)) (2.3.0)\n",
      "Requirement already satisfied: transformers==4.40.1 in /Users/tombedor/.pyenv/versions/3.11.7/lib/python3.11/site-packages (from -r requirements.txt (line 4)) (4.40.1)\n",
      "Requirement already satisfied: sentencepiece in /Users/tombedor/.pyenv/versions/3.11.7/lib/python3.11/site-packages (from -r requirements.txt (line 5)) (0.2.0)\n",
      "Requirement already satisfied: pandas in /Users/tombedor/.pyenv/versions/3.11.7/lib/python3.11/site-packages (from -r requirements.txt (line 6)) (2.2.2)\n",
      "Requirement already satisfied: filelock in /Users/tombedor/.pyenv/versions/3.11.7/lib/python3.11/site-packages (from torch==2.3.0->-r requirements.txt (line 3)) (3.14.0)\n",
      "Requirement already satisfied: typing-extensions>=4.8.0 in /Users/tombedor/.pyenv/versions/3.11.7/lib/python3.11/site-packages (from torch==2.3.0->-r requirements.txt (line 3)) (4.11.0)\n",
      "Requirement already satisfied: sympy in /Users/tombedor/.pyenv/versions/3.11.7/lib/python3.11/site-packages (from torch==2.3.0->-r requirements.txt (line 3)) (1.12)\n",
      "Requirement already satisfied: networkx in /Users/tombedor/.pyenv/versions/3.11.7/lib/python3.11/site-packages (from torch==2.3.0->-r requirements.txt (line 3)) (3.3)\n",
      "Requirement already satisfied: jinja2 in /Users/tombedor/.pyenv/versions/3.11.7/lib/python3.11/site-packages (from torch==2.3.0->-r requirements.txt (line 3)) (3.1.3)\n",
      "Requirement already satisfied: fsspec in /Users/tombedor/.pyenv/versions/3.11.7/lib/python3.11/site-packages (from torch==2.3.0->-r requirements.txt (line 3)) (2024.3.1)\n",
      "Requirement already satisfied: huggingface-hub<1.0,>=0.19.3 in /Users/tombedor/.pyenv/versions/3.11.7/lib/python3.11/site-packages (from transformers==4.40.1->-r requirements.txt (line 4)) (0.23.0)\n",
      "Requirement already satisfied: numpy>=1.17 in /Users/tombedor/.pyenv/versions/3.11.7/lib/python3.11/site-packages (from transformers==4.40.1->-r requirements.txt (line 4)) (1.26.4)\n",
      "Requirement already satisfied: packaging>=20.0 in /Users/tombedor/.pyenv/versions/3.11.7/lib/python3.11/site-packages (from transformers==4.40.1->-r requirements.txt (line 4)) (24.0)\n",
      "Requirement already satisfied: pyyaml>=5.1 in /Users/tombedor/.pyenv/versions/3.11.7/lib/python3.11/site-packages (from transformers==4.40.1->-r requirements.txt (line 4)) (6.0.1)\n",
      "Requirement already satisfied: regex!=2019.12.17 in /Users/tombedor/.pyenv/versions/3.11.7/lib/python3.11/site-packages (from transformers==4.40.1->-r requirements.txt (line 4)) (2024.4.28)\n",
      "Requirement already satisfied: requests in /Users/tombedor/.pyenv/versions/3.11.7/lib/python3.11/site-packages (from transformers==4.40.1->-r requirements.txt (line 4)) (2.31.0)\n",
      "Requirement already satisfied: tokenizers<0.20,>=0.19 in /Users/tombedor/.pyenv/versions/3.11.7/lib/python3.11/site-packages (from transformers==4.40.1->-r requirements.txt (line 4)) (0.19.1)\n",
      "Requirement already satisfied: safetensors>=0.4.1 in /Users/tombedor/.pyenv/versions/3.11.7/lib/python3.11/site-packages (from transformers==4.40.1->-r requirements.txt (line 4)) (0.4.3)\n",
      "Requirement already satisfied: tqdm>=4.27 in /Users/tombedor/.pyenv/versions/3.11.7/lib/python3.11/site-packages (from transformers==4.40.1->-r requirements.txt (line 4)) (4.66.4)\n",
      "Requirement already satisfied: spacy<4.0,>=3.5 in /Users/tombedor/.pyenv/versions/3.11.7/lib/python3.11/site-packages (from spacy-llm@ git+https://github.com/tombedor/spacy-llm.git@0dba69841d68e31e9360bcf47035166516aadeb2->-r requirements.txt (line 2)) (3.7.4)\n",
      "Requirement already satisfied: confection<1.0.0,>=0.1.3 in /Users/tombedor/.pyenv/versions/3.11.7/lib/python3.11/site-packages (from spacy-llm@ git+https://github.com/tombedor/spacy-llm.git@0dba69841d68e31e9360bcf47035166516aadeb2->-r requirements.txt (line 2)) (0.1.4)\n",
      "Requirement already satisfied: python-dateutil>=2.8.2 in /Users/tombedor/.pyenv/versions/3.11.7/lib/python3.11/site-packages (from pandas->-r requirements.txt (line 6)) (2.9.0.post0)\n",
      "Requirement already satisfied: pytz>=2020.1 in /Users/tombedor/.pyenv/versions/3.11.7/lib/python3.11/site-packages (from pandas->-r requirements.txt (line 6)) (2024.1)\n",
      "Requirement already satisfied: tzdata>=2022.7 in /Users/tombedor/.pyenv/versions/3.11.7/lib/python3.11/site-packages (from pandas->-r requirements.txt (line 6)) (2024.1)\n",
      "Requirement already satisfied: pydantic!=1.8,!=1.8.1,<3.0.0,>=1.7.4 in /Users/tombedor/.pyenv/versions/3.11.7/lib/python3.11/site-packages (from confection<1.0.0,>=0.1.3->spacy-llm@ git+https://github.com/tombedor/spacy-llm.git@0dba69841d68e31e9360bcf47035166516aadeb2->-r requirements.txt (line 2)) (2.7.1)\n",
      "Requirement already satisfied: srsly<3.0.0,>=2.4.0 in /Users/tombedor/.pyenv/versions/3.11.7/lib/python3.11/site-packages (from confection<1.0.0,>=0.1.3->spacy-llm@ git+https://github.com/tombedor/spacy-llm.git@0dba69841d68e31e9360bcf47035166516aadeb2->-r requirements.txt (line 2)) (2.4.8)\n",
      "Requirement already satisfied: six>=1.5 in /Users/tombedor/.pyenv/versions/3.11.7/lib/python3.11/site-packages (from python-dateutil>=2.8.2->pandas->-r requirements.txt (line 6)) (1.16.0)\n",
      "Requirement already satisfied: spacy-legacy<3.1.0,>=3.0.11 in /Users/tombedor/.pyenv/versions/3.11.7/lib/python3.11/site-packages (from spacy<4.0,>=3.5->spacy-llm@ git+https://github.com/tombedor/spacy-llm.git@0dba69841d68e31e9360bcf47035166516aadeb2->-r requirements.txt (line 2)) (3.0.12)\n",
      "Requirement already satisfied: spacy-loggers<2.0.0,>=1.0.0 in /Users/tombedor/.pyenv/versions/3.11.7/lib/python3.11/site-packages (from spacy<4.0,>=3.5->spacy-llm@ git+https://github.com/tombedor/spacy-llm.git@0dba69841d68e31e9360bcf47035166516aadeb2->-r requirements.txt (line 2)) (1.0.5)\n",
      "Requirement already satisfied: murmurhash<1.1.0,>=0.28.0 in /Users/tombedor/.pyenv/versions/3.11.7/lib/python3.11/site-packages (from spacy<4.0,>=3.5->spacy-llm@ git+https://github.com/tombedor/spacy-llm.git@0dba69841d68e31e9360bcf47035166516aadeb2->-r requirements.txt (line 2)) (1.0.10)\n",
      "Requirement already satisfied: cymem<2.1.0,>=2.0.2 in /Users/tombedor/.pyenv/versions/3.11.7/lib/python3.11/site-packages (from spacy<4.0,>=3.5->spacy-llm@ git+https://github.com/tombedor/spacy-llm.git@0dba69841d68e31e9360bcf47035166516aadeb2->-r requirements.txt (line 2)) (2.0.8)\n",
      "Requirement already satisfied: preshed<3.1.0,>=3.0.2 in /Users/tombedor/.pyenv/versions/3.11.7/lib/python3.11/site-packages (from spacy<4.0,>=3.5->spacy-llm@ git+https://github.com/tombedor/spacy-llm.git@0dba69841d68e31e9360bcf47035166516aadeb2->-r requirements.txt (line 2)) (3.0.9)\n",
      "Requirement already satisfied: thinc<8.3.0,>=8.2.2 in /Users/tombedor/.pyenv/versions/3.11.7/lib/python3.11/site-packages (from spacy<4.0,>=3.5->spacy-llm@ git+https://github.com/tombedor/spacy-llm.git@0dba69841d68e31e9360bcf47035166516aadeb2->-r requirements.txt (line 2)) (8.2.3)\n",
      "Requirement already satisfied: wasabi<1.2.0,>=0.9.1 in /Users/tombedor/.pyenv/versions/3.11.7/lib/python3.11/site-packages (from spacy<4.0,>=3.5->spacy-llm@ git+https://github.com/tombedor/spacy-llm.git@0dba69841d68e31e9360bcf47035166516aadeb2->-r requirements.txt (line 2)) (1.1.2)\n",
      "Requirement already satisfied: catalogue<2.1.0,>=2.0.6 in /Users/tombedor/.pyenv/versions/3.11.7/lib/python3.11/site-packages (from spacy<4.0,>=3.5->spacy-llm@ git+https://github.com/tombedor/spacy-llm.git@0dba69841d68e31e9360bcf47035166516aadeb2->-r requirements.txt (line 2)) (2.0.10)\n",
      "Requirement already satisfied: weasel<0.4.0,>=0.1.0 in /Users/tombedor/.pyenv/versions/3.11.7/lib/python3.11/site-packages (from spacy<4.0,>=3.5->spacy-llm@ git+https://github.com/tombedor/spacy-llm.git@0dba69841d68e31e9360bcf47035166516aadeb2->-r requirements.txt (line 2)) (0.3.4)\n",
      "Requirement already satisfied: typer<0.10.0,>=0.3.0 in /Users/tombedor/.pyenv/versions/3.11.7/lib/python3.11/site-packages (from spacy<4.0,>=3.5->spacy-llm@ git+https://github.com/tombedor/spacy-llm.git@0dba69841d68e31e9360bcf47035166516aadeb2->-r requirements.txt (line 2)) (0.9.4)\n",
      "Requirement already satisfied: smart-open<7.0.0,>=5.2.1 in /Users/tombedor/.pyenv/versions/3.11.7/lib/python3.11/site-packages (from spacy<4.0,>=3.5->spacy-llm@ git+https://github.com/tombedor/spacy-llm.git@0dba69841d68e31e9360bcf47035166516aadeb2->-r requirements.txt (line 2)) (6.4.0)\n",
      "Requirement already satisfied: setuptools in /Users/tombedor/.pyenv/versions/3.11.7/lib/python3.11/site-packages (from spacy<4.0,>=3.5->spacy-llm@ git+https://github.com/tombedor/spacy-llm.git@0dba69841d68e31e9360bcf47035166516aadeb2->-r requirements.txt (line 2)) (65.5.0)\n",
      "Requirement already satisfied: langcodes<4.0.0,>=3.2.0 in /Users/tombedor/.pyenv/versions/3.11.7/lib/python3.11/site-packages (from spacy<4.0,>=3.5->spacy-llm@ git+https://github.com/tombedor/spacy-llm.git@0dba69841d68e31e9360bcf47035166516aadeb2->-r requirements.txt (line 2)) (3.4.0)\n",
      "Requirement already satisfied: charset-normalizer<4,>=2 in /Users/tombedor/.pyenv/versions/3.11.7/lib/python3.11/site-packages (from requests->transformers==4.40.1->-r requirements.txt (line 4)) (3.3.2)\n",
      "Requirement already satisfied: idna<4,>=2.5 in /Users/tombedor/.pyenv/versions/3.11.7/lib/python3.11/site-packages (from requests->transformers==4.40.1->-r requirements.txt (line 4)) (3.7)\n",
      "Requirement already satisfied: urllib3<3,>=1.21.1 in /Users/tombedor/.pyenv/versions/3.11.7/lib/python3.11/site-packages (from requests->transformers==4.40.1->-r requirements.txt (line 4)) (2.2.1)\n",
      "Requirement already satisfied: certifi>=2017.4.17 in /Users/tombedor/.pyenv/versions/3.11.7/lib/python3.11/site-packages (from requests->transformers==4.40.1->-r requirements.txt (line 4)) (2024.2.2)\n",
      "Requirement already satisfied: MarkupSafe>=2.0 in /Users/tombedor/.pyenv/versions/3.11.7/lib/python3.11/site-packages (from jinja2->torch==2.3.0->-r requirements.txt (line 3)) (2.1.5)\n",
      "Requirement already satisfied: mpmath>=0.19 in /Users/tombedor/.pyenv/versions/3.11.7/lib/python3.11/site-packages (from sympy->torch==2.3.0->-r requirements.txt (line 3)) (1.3.0)\n",
      "Requirement already satisfied: language-data>=1.2 in /Users/tombedor/.pyenv/versions/3.11.7/lib/python3.11/site-packages (from langcodes<4.0.0,>=3.2.0->spacy<4.0,>=3.5->spacy-llm@ git+https://github.com/tombedor/spacy-llm.git@0dba69841d68e31e9360bcf47035166516aadeb2->-r requirements.txt (line 2)) (1.2.0)\n",
      "Requirement already satisfied: annotated-types>=0.4.0 in /Users/tombedor/.pyenv/versions/3.11.7/lib/python3.11/site-packages (from pydantic!=1.8,!=1.8.1,<3.0.0,>=1.7.4->confection<1.0.0,>=0.1.3->spacy-llm@ git+https://github.com/tombedor/spacy-llm.git@0dba69841d68e31e9360bcf47035166516aadeb2->-r requirements.txt (line 2)) (0.6.0)\n",
      "Requirement already satisfied: pydantic-core==2.18.2 in /Users/tombedor/.pyenv/versions/3.11.7/lib/python3.11/site-packages (from pydantic!=1.8,!=1.8.1,<3.0.0,>=1.7.4->confection<1.0.0,>=0.1.3->spacy-llm@ git+https://github.com/tombedor/spacy-llm.git@0dba69841d68e31e9360bcf47035166516aadeb2->-r requirements.txt (line 2)) (2.18.2)\n",
      "Requirement already satisfied: blis<0.8.0,>=0.7.8 in /Users/tombedor/.pyenv/versions/3.11.7/lib/python3.11/site-packages (from thinc<8.3.0,>=8.2.2->spacy<4.0,>=3.5->spacy-llm@ git+https://github.com/tombedor/spacy-llm.git@0dba69841d68e31e9360bcf47035166516aadeb2->-r requirements.txt (line 2)) (0.7.11)\n",
      "Requirement already satisfied: click<9.0.0,>=7.1.1 in /Users/tombedor/.pyenv/versions/3.11.7/lib/python3.11/site-packages (from typer<0.10.0,>=0.3.0->spacy<4.0,>=3.5->spacy-llm@ git+https://github.com/tombedor/spacy-llm.git@0dba69841d68e31e9360bcf47035166516aadeb2->-r requirements.txt (line 2)) (8.1.7)\n",
      "Requirement already satisfied: cloudpathlib<0.17.0,>=0.7.0 in /Users/tombedor/.pyenv/versions/3.11.7/lib/python3.11/site-packages (from weasel<0.4.0,>=0.1.0->spacy<4.0,>=3.5->spacy-llm@ git+https://github.com/tombedor/spacy-llm.git@0dba69841d68e31e9360bcf47035166516aadeb2->-r requirements.txt (line 2)) (0.16.0)\n",
      "Requirement already satisfied: marisa-trie>=0.7.7 in /Users/tombedor/.pyenv/versions/3.11.7/lib/python3.11/site-packages (from language-data>=1.2->langcodes<4.0.0,>=3.2.0->spacy<4.0,>=3.5->spacy-llm@ git+https://github.com/tombedor/spacy-llm.git@0dba69841d68e31e9360bcf47035166516aadeb2->-r requirements.txt (line 2)) (1.1.0)\n",
      "\n",
      "\u001b[1m[\u001b[0m\u001b[34;49mnotice\u001b[0m\u001b[1;39;49m]\u001b[0m\u001b[39;49m A new release of pip is available: \u001b[0m\u001b[31;49m23.2.1\u001b[0m\u001b[39;49m -> \u001b[0m\u001b[32;49m24.0\u001b[0m\n",
      "\u001b[1m[\u001b[0m\u001b[34;49mnotice\u001b[0m\u001b[1;39;49m]\u001b[0m\u001b[39;49m To update, run: \u001b[0m\u001b[32;49mpip install --upgrade pip\u001b[0m\n"
     ]
    }
   ],
   "source": [
    "!pip install -r requirements.txt"
   ]
  },
  {
   "cell_type": "markdown",
   "metadata": {},
   "source": [
    "# Init pipeline"
   ]
  },
  {
   "cell_type": "code",
   "execution_count": 1,
   "metadata": {
    "metadata": {}
   },
   "outputs": [
    {
     "name": "stderr",
     "output_type": "stream",
     "text": [
      "/Users/tombedor/.pyenv/versions/3.11.7/lib/python3.11/site-packages/tqdm/auto.py:21: TqdmWarning: IProgress not found. Please update jupyter and ipywidgets. See https://ipywidgets.readthedocs.io/en/stable/user_install.html\n",
      "  from .autonotebook import tqdm as notebook_tqdm\n"
     ]
    },
    {
     "ename": "RegistryError",
     "evalue": "[E893] Could not find function 'spacy.Local.v1' in function registry 'llm_models'. If you're using a custom function, make sure the code is available. If the function is provided by a third-party package, e.g. spacy-transformers, make sure the package is installed in your environment.\n\nAvailable names: spacy.Ada.v1, spacy.Ada.v2, spacy.Anthropic.v1, spacy.Azure.v1, spacy.Azure.v2, spacy.Babbage.v1, spacy.Babbage.v2, spacy.Claude-1-0.v1, spacy.Claude-1-0.v2, spacy.Claude-1-2.v1, spacy.Claude-1-2.v2, spacy.Claude-1-3.v1, spacy.Claude-1-3.v2, spacy.Claude-1.v1, spacy.Claude-1.v2, spacy.Claude-2.v1, spacy.Claude-2.v2, spacy.Claude-instant-1-1.v1, spacy.Claude-instant-1-1.v2, spacy.Claude-instant-1.v1, spacy.Claude-instant-1.v2, spacy.Code-Davinci.v1, spacy.Code-Davinci.v2, spacy.Cohere.v1, spacy.Command.v1, spacy.Command.v2, spacy.Curie.v1, spacy.Curie.v2, spacy.Davinci.v1, spacy.Davinci.v2, spacy.Dolly.v1, spacy.Falcon.v1, spacy.GPT-3-5.v1, spacy.GPT-3-5.v2, spacy.GPT-3-5.v3, spacy.GPT-4.v1, spacy.GPT-4.v2, spacy.GPT-4.v3, spacy.Google.v1, spacy.HF.v1, spacy.HuggingFace.v1, spacy.Llama2.v1, spacy.Mistral.v1, spacy.NoOp.v1, spacy.OpenAI.v1, spacy.OpenLLaMA.v1, spacy.PaLM.v1, spacy.PaLM.v2, spacy.StableLM.v1, spacy.Text-Ada.v1, spacy.Text-Ada.v2, spacy.Text-Babbage.v1, spacy.Text-Babbage.v2, spacy.Text-Curie.v1, spacy.Text-Curie.v2, spacy.Text-Davinci.v1, spacy.Text-Davinci.v2, spacy.Text-Davinci.v3",
     "output_type": "error",
     "traceback": [
      "\u001b[0;31m---------------------------------------------------------------------------\u001b[0m",
      "\u001b[0;31mRegistryError\u001b[0m                             Traceback (most recent call last)",
      "Cell \u001b[0;32mIn[1], line 15\u001b[0m\n\u001b[1;32m     12\u001b[0m spacy_llm\u001b[38;5;241m.\u001b[39mlogger\u001b[38;5;241m.\u001b[39maddHandler(logging\u001b[38;5;241m.\u001b[39mStreamHandler())\n\u001b[1;32m     13\u001b[0m spacy_llm\u001b[38;5;241m.\u001b[39mlogger\u001b[38;5;241m.\u001b[39msetLevel(logging\u001b[38;5;241m.\u001b[39mDEBUG)\n\u001b[0;32m---> 15\u001b[0m nlp \u001b[38;5;241m=\u001b[39m \u001b[43massemble\u001b[49m\u001b[43m(\u001b[49m\u001b[38;5;124;43m\"\u001b[39;49m\u001b[38;5;124;43mconfig.cfg\u001b[39;49m\u001b[38;5;124;43m\"\u001b[39;49m\u001b[43m)\u001b[49m\n",
      "File \u001b[0;32m~/.pyenv/versions/3.11.7/lib/python3.11/site-packages/spacy_llm/util.py:48\u001b[0m, in \u001b[0;36massemble\u001b[0;34m(config_path, overrides)\u001b[0m\n\u001b[1;32m     46\u001b[0m config_path \u001b[38;5;241m=\u001b[39m Path(config_path)\n\u001b[1;32m     47\u001b[0m config \u001b[38;5;241m=\u001b[39m load_config(config_path, overrides\u001b[38;5;241m=\u001b[39moverrides, interpolate\u001b[38;5;241m=\u001b[39m\u001b[38;5;28;01mFalse\u001b[39;00m)\n\u001b[0;32m---> 48\u001b[0m \u001b[38;5;28;01mreturn\u001b[39;00m \u001b[43massemble_from_config\u001b[49m\u001b[43m(\u001b[49m\u001b[43mconfig\u001b[49m\u001b[43m)\u001b[49m\n",
      "File \u001b[0;32m~/.pyenv/versions/3.11.7/lib/python3.11/site-packages/spacy_llm/util.py:28\u001b[0m, in \u001b[0;36massemble_from_config\u001b[0;34m(config)\u001b[0m\n\u001b[1;32m     22\u001b[0m \u001b[38;5;28;01mdef\u001b[39;00m \u001b[38;5;21massemble_from_config\u001b[39m(config: Config) \u001b[38;5;241m-\u001b[39m\u001b[38;5;241m>\u001b[39m Language:\n\u001b[1;32m     23\u001b[0m \u001b[38;5;250m    \u001b[39m\u001b[38;5;124;03m\"\"\"Assemble a spaCy pipeline from a confection Config object.\u001b[39;00m\n\u001b[1;32m     24\u001b[0m \n\u001b[1;32m     25\u001b[0m \u001b[38;5;124;03m    config (Config): Config to load spaCy pipeline from.\u001b[39;00m\n\u001b[1;32m     26\u001b[0m \u001b[38;5;124;03m    RETURNS (Language): An initialized spaCy pipeline.\u001b[39;00m\n\u001b[1;32m     27\u001b[0m \u001b[38;5;124;03m    \"\"\"\u001b[39;00m\n\u001b[0;32m---> 28\u001b[0m     nlp \u001b[38;5;241m=\u001b[39m \u001b[43mload_model_from_config\u001b[49m\u001b[43m(\u001b[49m\u001b[43mconfig\u001b[49m\u001b[43m,\u001b[49m\u001b[43m \u001b[49m\u001b[43mauto_fill\u001b[49m\u001b[38;5;241;43m=\u001b[39;49m\u001b[38;5;28;43;01mTrue\u001b[39;49;00m\u001b[43m)\u001b[49m\n\u001b[1;32m     29\u001b[0m     config \u001b[38;5;241m=\u001b[39m config\u001b[38;5;241m.\u001b[39minterpolate()\n\u001b[1;32m     30\u001b[0m     sourced \u001b[38;5;241m=\u001b[39m get_sourced_components(config)\n",
      "File \u001b[0;32m~/.pyenv/versions/3.11.7/lib/python3.11/site-packages/spacy/util.py:587\u001b[0m, in \u001b[0;36mload_model_from_config\u001b[0;34m(config, meta, vocab, disable, enable, exclude, auto_fill, validate)\u001b[0m\n\u001b[1;32m    584\u001b[0m \u001b[38;5;66;03m# This will automatically handle all codes registered via the languages\u001b[39;00m\n\u001b[1;32m    585\u001b[0m \u001b[38;5;66;03m# registry, including custom subclasses provided via entry points\u001b[39;00m\n\u001b[1;32m    586\u001b[0m lang_cls \u001b[38;5;241m=\u001b[39m get_lang_class(nlp_config[\u001b[38;5;124m\"\u001b[39m\u001b[38;5;124mlang\u001b[39m\u001b[38;5;124m\"\u001b[39m])\n\u001b[0;32m--> 587\u001b[0m nlp \u001b[38;5;241m=\u001b[39m \u001b[43mlang_cls\u001b[49m\u001b[38;5;241;43m.\u001b[39;49m\u001b[43mfrom_config\u001b[49m\u001b[43m(\u001b[49m\n\u001b[1;32m    588\u001b[0m \u001b[43m    \u001b[49m\u001b[43mconfig\u001b[49m\u001b[43m,\u001b[49m\n\u001b[1;32m    589\u001b[0m \u001b[43m    \u001b[49m\u001b[43mvocab\u001b[49m\u001b[38;5;241;43m=\u001b[39;49m\u001b[43mvocab\u001b[49m\u001b[43m,\u001b[49m\n\u001b[1;32m    590\u001b[0m \u001b[43m    \u001b[49m\u001b[43mdisable\u001b[49m\u001b[38;5;241;43m=\u001b[39;49m\u001b[43mdisable\u001b[49m\u001b[43m,\u001b[49m\n\u001b[1;32m    591\u001b[0m \u001b[43m    \u001b[49m\u001b[43menable\u001b[49m\u001b[38;5;241;43m=\u001b[39;49m\u001b[43menable\u001b[49m\u001b[43m,\u001b[49m\n\u001b[1;32m    592\u001b[0m \u001b[43m    \u001b[49m\u001b[43mexclude\u001b[49m\u001b[38;5;241;43m=\u001b[39;49m\u001b[43mexclude\u001b[49m\u001b[43m,\u001b[49m\n\u001b[1;32m    593\u001b[0m \u001b[43m    \u001b[49m\u001b[43mauto_fill\u001b[49m\u001b[38;5;241;43m=\u001b[39;49m\u001b[43mauto_fill\u001b[49m\u001b[43m,\u001b[49m\n\u001b[1;32m    594\u001b[0m \u001b[43m    \u001b[49m\u001b[43mvalidate\u001b[49m\u001b[38;5;241;43m=\u001b[39;49m\u001b[43mvalidate\u001b[49m\u001b[43m,\u001b[49m\n\u001b[1;32m    595\u001b[0m \u001b[43m    \u001b[49m\u001b[43mmeta\u001b[49m\u001b[38;5;241;43m=\u001b[39;49m\u001b[43mmeta\u001b[49m\u001b[43m,\u001b[49m\n\u001b[1;32m    596\u001b[0m \u001b[43m\u001b[49m\u001b[43m)\u001b[49m\n\u001b[1;32m    597\u001b[0m \u001b[38;5;28;01mreturn\u001b[39;00m nlp\n",
      "File \u001b[0;32m~/.pyenv/versions/3.11.7/lib/python3.11/site-packages/spacy/language.py:1889\u001b[0m, in \u001b[0;36mLanguage.from_config\u001b[0;34m(cls, config, vocab, disable, enable, exclude, meta, auto_fill, validate)\u001b[0m\n\u001b[1;32m   1886\u001b[0m     factory \u001b[38;5;241m=\u001b[39m pipe_cfg\u001b[38;5;241m.\u001b[39mpop(\u001b[38;5;124m\"\u001b[39m\u001b[38;5;124mfactory\u001b[39m\u001b[38;5;124m\"\u001b[39m)\n\u001b[1;32m   1887\u001b[0m     \u001b[38;5;66;03m# The pipe name (key in the config) here is the unique name\u001b[39;00m\n\u001b[1;32m   1888\u001b[0m     \u001b[38;5;66;03m# of the component, not necessarily the factory\u001b[39;00m\n\u001b[0;32m-> 1889\u001b[0m     \u001b[43mnlp\u001b[49m\u001b[38;5;241;43m.\u001b[39;49m\u001b[43madd_pipe\u001b[49m\u001b[43m(\u001b[49m\n\u001b[1;32m   1890\u001b[0m \u001b[43m        \u001b[49m\u001b[43mfactory\u001b[49m\u001b[43m,\u001b[49m\n\u001b[1;32m   1891\u001b[0m \u001b[43m        \u001b[49m\u001b[43mname\u001b[49m\u001b[38;5;241;43m=\u001b[39;49m\u001b[43mpipe_name\u001b[49m\u001b[43m,\u001b[49m\n\u001b[1;32m   1892\u001b[0m \u001b[43m        \u001b[49m\u001b[43mconfig\u001b[49m\u001b[38;5;241;43m=\u001b[39;49m\u001b[43mpipe_cfg\u001b[49m\u001b[43m,\u001b[49m\n\u001b[1;32m   1893\u001b[0m \u001b[43m        \u001b[49m\u001b[43mvalidate\u001b[49m\u001b[38;5;241;43m=\u001b[39;49m\u001b[43mvalidate\u001b[49m\u001b[43m,\u001b[49m\n\u001b[1;32m   1894\u001b[0m \u001b[43m        \u001b[49m\u001b[43mraw_config\u001b[49m\u001b[38;5;241;43m=\u001b[39;49m\u001b[43mraw_config\u001b[49m\u001b[43m,\u001b[49m\n\u001b[1;32m   1895\u001b[0m \u001b[43m    \u001b[49m\u001b[43m)\u001b[49m\n\u001b[1;32m   1896\u001b[0m \u001b[38;5;28;01melse\u001b[39;00m:\n\u001b[1;32m   1897\u001b[0m     \u001b[38;5;28;01massert\u001b[39;00m \u001b[38;5;124m\"\u001b[39m\u001b[38;5;124msource\u001b[39m\u001b[38;5;124m\"\u001b[39m \u001b[38;5;129;01min\u001b[39;00m pipe_cfg\n",
      "File \u001b[0;32m~/.pyenv/versions/3.11.7/lib/python3.11/site-packages/spacy/language.py:821\u001b[0m, in \u001b[0;36mLanguage.add_pipe\u001b[0;34m(self, factory_name, name, before, after, first, last, source, config, raw_config, validate)\u001b[0m\n\u001b[1;32m    817\u001b[0m     pipe_component, factory_name \u001b[38;5;241m=\u001b[39m \u001b[38;5;28mself\u001b[39m\u001b[38;5;241m.\u001b[39mcreate_pipe_from_source(\n\u001b[1;32m    818\u001b[0m         factory_name, source, name\u001b[38;5;241m=\u001b[39mname\n\u001b[1;32m    819\u001b[0m     )\n\u001b[1;32m    820\u001b[0m \u001b[38;5;28;01melse\u001b[39;00m:\n\u001b[0;32m--> 821\u001b[0m     pipe_component \u001b[38;5;241m=\u001b[39m \u001b[38;5;28;43mself\u001b[39;49m\u001b[38;5;241;43m.\u001b[39;49m\u001b[43mcreate_pipe\u001b[49m\u001b[43m(\u001b[49m\n\u001b[1;32m    822\u001b[0m \u001b[43m        \u001b[49m\u001b[43mfactory_name\u001b[49m\u001b[43m,\u001b[49m\n\u001b[1;32m    823\u001b[0m \u001b[43m        \u001b[49m\u001b[43mname\u001b[49m\u001b[38;5;241;43m=\u001b[39;49m\u001b[43mname\u001b[49m\u001b[43m,\u001b[49m\n\u001b[1;32m    824\u001b[0m \u001b[43m        \u001b[49m\u001b[43mconfig\u001b[49m\u001b[38;5;241;43m=\u001b[39;49m\u001b[43mconfig\u001b[49m\u001b[43m,\u001b[49m\n\u001b[1;32m    825\u001b[0m \u001b[43m        \u001b[49m\u001b[43mraw_config\u001b[49m\u001b[38;5;241;43m=\u001b[39;49m\u001b[43mraw_config\u001b[49m\u001b[43m,\u001b[49m\n\u001b[1;32m    826\u001b[0m \u001b[43m        \u001b[49m\u001b[43mvalidate\u001b[49m\u001b[38;5;241;43m=\u001b[39;49m\u001b[43mvalidate\u001b[49m\u001b[43m,\u001b[49m\n\u001b[1;32m    827\u001b[0m \u001b[43m    \u001b[49m\u001b[43m)\u001b[49m\n\u001b[1;32m    828\u001b[0m pipe_index \u001b[38;5;241m=\u001b[39m \u001b[38;5;28mself\u001b[39m\u001b[38;5;241m.\u001b[39m_get_pipe_index(before, after, first, last)\n\u001b[1;32m    829\u001b[0m \u001b[38;5;28mself\u001b[39m\u001b[38;5;241m.\u001b[39m_pipe_meta[name] \u001b[38;5;241m=\u001b[39m \u001b[38;5;28mself\u001b[39m\u001b[38;5;241m.\u001b[39mget_factory_meta(factory_name)\n",
      "File \u001b[0;32m~/.pyenv/versions/3.11.7/lib/python3.11/site-packages/spacy/language.py:709\u001b[0m, in \u001b[0;36mLanguage.create_pipe\u001b[0;34m(self, factory_name, name, config, raw_config, validate)\u001b[0m\n\u001b[1;32m    706\u001b[0m cfg \u001b[38;5;241m=\u001b[39m {factory_name: config}\n\u001b[1;32m    707\u001b[0m \u001b[38;5;66;03m# We're calling the internal _fill here to avoid constructing the\u001b[39;00m\n\u001b[1;32m    708\u001b[0m \u001b[38;5;66;03m# registered functions twice\u001b[39;00m\n\u001b[0;32m--> 709\u001b[0m resolved \u001b[38;5;241m=\u001b[39m \u001b[43mregistry\u001b[49m\u001b[38;5;241;43m.\u001b[39;49m\u001b[43mresolve\u001b[49m\u001b[43m(\u001b[49m\u001b[43mcfg\u001b[49m\u001b[43m,\u001b[49m\u001b[43m \u001b[49m\u001b[43mvalidate\u001b[49m\u001b[38;5;241;43m=\u001b[39;49m\u001b[43mvalidate\u001b[49m\u001b[43m)\u001b[49m\n\u001b[1;32m    710\u001b[0m filled \u001b[38;5;241m=\u001b[39m registry\u001b[38;5;241m.\u001b[39mfill({\u001b[38;5;124m\"\u001b[39m\u001b[38;5;124mcfg\u001b[39m\u001b[38;5;124m\"\u001b[39m: cfg[factory_name]}, validate\u001b[38;5;241m=\u001b[39mvalidate)[\u001b[38;5;124m\"\u001b[39m\u001b[38;5;124mcfg\u001b[39m\u001b[38;5;124m\"\u001b[39m]\n\u001b[1;32m    711\u001b[0m filled \u001b[38;5;241m=\u001b[39m Config(filled)\n",
      "File \u001b[0;32m~/.pyenv/versions/3.11.7/lib/python3.11/site-packages/confection/__init__.py:759\u001b[0m, in \u001b[0;36mregistry.resolve\u001b[0;34m(cls, config, schema, overrides, validate)\u001b[0m\n\u001b[1;32m    750\u001b[0m \u001b[38;5;129m@classmethod\u001b[39m\n\u001b[1;32m    751\u001b[0m \u001b[38;5;28;01mdef\u001b[39;00m \u001b[38;5;21mresolve\u001b[39m(\n\u001b[1;32m    752\u001b[0m     \u001b[38;5;28mcls\u001b[39m,\n\u001b[0;32m   (...)\u001b[0m\n\u001b[1;32m    757\u001b[0m     validate: \u001b[38;5;28mbool\u001b[39m \u001b[38;5;241m=\u001b[39m \u001b[38;5;28;01mTrue\u001b[39;00m,\n\u001b[1;32m    758\u001b[0m ) \u001b[38;5;241m-\u001b[39m\u001b[38;5;241m>\u001b[39m Dict[\u001b[38;5;28mstr\u001b[39m, Any]:\n\u001b[0;32m--> 759\u001b[0m     resolved, _ \u001b[38;5;241m=\u001b[39m \u001b[38;5;28;43mcls\u001b[39;49m\u001b[38;5;241;43m.\u001b[39;49m\u001b[43m_make\u001b[49m\u001b[43m(\u001b[49m\n\u001b[1;32m    760\u001b[0m \u001b[43m        \u001b[49m\u001b[43mconfig\u001b[49m\u001b[43m,\u001b[49m\u001b[43m \u001b[49m\u001b[43mschema\u001b[49m\u001b[38;5;241;43m=\u001b[39;49m\u001b[43mschema\u001b[49m\u001b[43m,\u001b[49m\u001b[43m \u001b[49m\u001b[43moverrides\u001b[49m\u001b[38;5;241;43m=\u001b[39;49m\u001b[43moverrides\u001b[49m\u001b[43m,\u001b[49m\u001b[43m \u001b[49m\u001b[43mvalidate\u001b[49m\u001b[38;5;241;43m=\u001b[39;49m\u001b[43mvalidate\u001b[49m\u001b[43m,\u001b[49m\u001b[43m \u001b[49m\u001b[43mresolve\u001b[49m\u001b[38;5;241;43m=\u001b[39;49m\u001b[38;5;28;43;01mTrue\u001b[39;49;00m\n\u001b[1;32m    761\u001b[0m \u001b[43m    \u001b[49m\u001b[43m)\u001b[49m\n\u001b[1;32m    762\u001b[0m     \u001b[38;5;28;01mreturn\u001b[39;00m resolved\n",
      "File \u001b[0;32m~/.pyenv/versions/3.11.7/lib/python3.11/site-packages/confection/__init__.py:808\u001b[0m, in \u001b[0;36mregistry._make\u001b[0;34m(cls, config, schema, overrides, resolve, validate)\u001b[0m\n\u001b[1;32m    806\u001b[0m \u001b[38;5;28;01mif\u001b[39;00m \u001b[38;5;129;01mnot\u001b[39;00m is_interpolated:\n\u001b[1;32m    807\u001b[0m     config \u001b[38;5;241m=\u001b[39m Config(orig_config)\u001b[38;5;241m.\u001b[39minterpolate()\n\u001b[0;32m--> 808\u001b[0m filled, _, resolved \u001b[38;5;241m=\u001b[39m \u001b[38;5;28;43mcls\u001b[39;49m\u001b[38;5;241;43m.\u001b[39;49m\u001b[43m_fill\u001b[49m\u001b[43m(\u001b[49m\n\u001b[1;32m    809\u001b[0m \u001b[43m    \u001b[49m\u001b[43mconfig\u001b[49m\u001b[43m,\u001b[49m\u001b[43m \u001b[49m\u001b[43mschema\u001b[49m\u001b[43m,\u001b[49m\u001b[43m \u001b[49m\u001b[43mvalidate\u001b[49m\u001b[38;5;241;43m=\u001b[39;49m\u001b[43mvalidate\u001b[49m\u001b[43m,\u001b[49m\u001b[43m \u001b[49m\u001b[43moverrides\u001b[49m\u001b[38;5;241;43m=\u001b[39;49m\u001b[43moverrides\u001b[49m\u001b[43m,\u001b[49m\u001b[43m \u001b[49m\u001b[43mresolve\u001b[49m\u001b[38;5;241;43m=\u001b[39;49m\u001b[43mresolve\u001b[49m\n\u001b[1;32m    810\u001b[0m \u001b[43m\u001b[49m\u001b[43m)\u001b[49m\n\u001b[1;32m    811\u001b[0m filled \u001b[38;5;241m=\u001b[39m Config(filled, section_order\u001b[38;5;241m=\u001b[39msection_order)\n\u001b[1;32m    812\u001b[0m \u001b[38;5;66;03m# Check that overrides didn't include invalid properties not in config\u001b[39;00m\n",
      "File \u001b[0;32m~/.pyenv/versions/3.11.7/lib/python3.11/site-packages/confection/__init__.py:863\u001b[0m, in \u001b[0;36mregistry._fill\u001b[0;34m(cls, config, schema, validate, resolve, parent, overrides)\u001b[0m\n\u001b[1;32m    861\u001b[0m     schema\u001b[38;5;241m.\u001b[39m__fields__[key] \u001b[38;5;241m=\u001b[39m copy_model_field(field, Any)\n\u001b[1;32m    862\u001b[0m promise_schema \u001b[38;5;241m=\u001b[39m \u001b[38;5;28mcls\u001b[39m\u001b[38;5;241m.\u001b[39mmake_promise_schema(value, resolve\u001b[38;5;241m=\u001b[39mresolve)\n\u001b[0;32m--> 863\u001b[0m filled[key], validation[v_key], final[key] \u001b[38;5;241m=\u001b[39m \u001b[38;5;28;43mcls\u001b[39;49m\u001b[38;5;241;43m.\u001b[39;49m\u001b[43m_fill\u001b[49m\u001b[43m(\u001b[49m\n\u001b[1;32m    864\u001b[0m \u001b[43m    \u001b[49m\u001b[43mvalue\u001b[49m\u001b[43m,\u001b[49m\n\u001b[1;32m    865\u001b[0m \u001b[43m    \u001b[49m\u001b[43mpromise_schema\u001b[49m\u001b[43m,\u001b[49m\n\u001b[1;32m    866\u001b[0m \u001b[43m    \u001b[49m\u001b[43mvalidate\u001b[49m\u001b[38;5;241;43m=\u001b[39;49m\u001b[43mvalidate\u001b[49m\u001b[43m,\u001b[49m\n\u001b[1;32m    867\u001b[0m \u001b[43m    \u001b[49m\u001b[43mresolve\u001b[49m\u001b[38;5;241;43m=\u001b[39;49m\u001b[43mresolve\u001b[49m\u001b[43m,\u001b[49m\n\u001b[1;32m    868\u001b[0m \u001b[43m    \u001b[49m\u001b[43mparent\u001b[49m\u001b[38;5;241;43m=\u001b[39;49m\u001b[43mkey_parent\u001b[49m\u001b[43m,\u001b[49m\n\u001b[1;32m    869\u001b[0m \u001b[43m    \u001b[49m\u001b[43moverrides\u001b[49m\u001b[38;5;241;43m=\u001b[39;49m\u001b[43moverrides\u001b[49m\u001b[43m,\u001b[49m\n\u001b[1;32m    870\u001b[0m \u001b[43m\u001b[49m\u001b[43m)\u001b[49m\n\u001b[1;32m    871\u001b[0m reg_name, func_name \u001b[38;5;241m=\u001b[39m \u001b[38;5;28mcls\u001b[39m\u001b[38;5;241m.\u001b[39mget_constructor(final[key])\n\u001b[1;32m    872\u001b[0m args, kwargs \u001b[38;5;241m=\u001b[39m \u001b[38;5;28mcls\u001b[39m\u001b[38;5;241m.\u001b[39mparse_args(final[key])\n",
      "File \u001b[0;32m~/.pyenv/versions/3.11.7/lib/python3.11/site-packages/confection/__init__.py:862\u001b[0m, in \u001b[0;36mregistry._fill\u001b[0;34m(cls, config, schema, validate, resolve, parent, overrides)\u001b[0m\n\u001b[1;32m    860\u001b[0m     field \u001b[38;5;241m=\u001b[39m schema\u001b[38;5;241m.\u001b[39m__fields__[key]\n\u001b[1;32m    861\u001b[0m     schema\u001b[38;5;241m.\u001b[39m__fields__[key] \u001b[38;5;241m=\u001b[39m copy_model_field(field, Any)\n\u001b[0;32m--> 862\u001b[0m promise_schema \u001b[38;5;241m=\u001b[39m \u001b[38;5;28;43mcls\u001b[39;49m\u001b[38;5;241;43m.\u001b[39;49m\u001b[43mmake_promise_schema\u001b[49m\u001b[43m(\u001b[49m\u001b[43mvalue\u001b[49m\u001b[43m,\u001b[49m\u001b[43m \u001b[49m\u001b[43mresolve\u001b[49m\u001b[38;5;241;43m=\u001b[39;49m\u001b[43mresolve\u001b[49m\u001b[43m)\u001b[49m\n\u001b[1;32m    863\u001b[0m filled[key], validation[v_key], final[key] \u001b[38;5;241m=\u001b[39m \u001b[38;5;28mcls\u001b[39m\u001b[38;5;241m.\u001b[39m_fill(\n\u001b[1;32m    864\u001b[0m     value,\n\u001b[1;32m    865\u001b[0m     promise_schema,\n\u001b[0;32m   (...)\u001b[0m\n\u001b[1;32m    869\u001b[0m     overrides\u001b[38;5;241m=\u001b[39moverrides,\n\u001b[1;32m    870\u001b[0m )\n\u001b[1;32m    871\u001b[0m reg_name, func_name \u001b[38;5;241m=\u001b[39m \u001b[38;5;28mcls\u001b[39m\u001b[38;5;241m.\u001b[39mget_constructor(final[key])\n",
      "File \u001b[0;32m~/.pyenv/versions/3.11.7/lib/python3.11/site-packages/confection/__init__.py:1054\u001b[0m, in \u001b[0;36mregistry.make_promise_schema\u001b[0;34m(cls, obj, resolve)\u001b[0m\n\u001b[1;32m   1052\u001b[0m \u001b[38;5;28;01mif\u001b[39;00m \u001b[38;5;129;01mnot\u001b[39;00m resolve \u001b[38;5;129;01mand\u001b[39;00m \u001b[38;5;129;01mnot\u001b[39;00m \u001b[38;5;28mcls\u001b[39m\u001b[38;5;241m.\u001b[39mhas(reg_name, func_name):\n\u001b[1;32m   1053\u001b[0m     \u001b[38;5;28;01mreturn\u001b[39;00m EmptySchema\n\u001b[0;32m-> 1054\u001b[0m func \u001b[38;5;241m=\u001b[39m \u001b[38;5;28;43mcls\u001b[39;49m\u001b[38;5;241;43m.\u001b[39;49m\u001b[43mget\u001b[49m\u001b[43m(\u001b[49m\u001b[43mreg_name\u001b[49m\u001b[43m,\u001b[49m\u001b[43m \u001b[49m\u001b[43mfunc_name\u001b[49m\u001b[43m)\u001b[49m\n\u001b[1;32m   1055\u001b[0m \u001b[38;5;66;03m# Read the argument annotations and defaults from the function signature\u001b[39;00m\n\u001b[1;32m   1056\u001b[0m id_keys \u001b[38;5;241m=\u001b[39m [k \u001b[38;5;28;01mfor\u001b[39;00m k \u001b[38;5;129;01min\u001b[39;00m obj\u001b[38;5;241m.\u001b[39mkeys() \u001b[38;5;28;01mif\u001b[39;00m k\u001b[38;5;241m.\u001b[39mstartswith(\u001b[38;5;124m\"\u001b[39m\u001b[38;5;124m@\u001b[39m\u001b[38;5;124m\"\u001b[39m)]\n",
      "File \u001b[0;32m~/.pyenv/versions/3.11.7/lib/python3.11/site-packages/spacy/util.py:163\u001b[0m, in \u001b[0;36mregistry.get\u001b[0;34m(cls, registry_name, func_name)\u001b[0m\n\u001b[1;32m    161\u001b[0m             \u001b[38;5;28;01mpass\u001b[39;00m\n\u001b[1;32m    162\u001b[0m     available \u001b[38;5;241m=\u001b[39m \u001b[38;5;124m\"\u001b[39m\u001b[38;5;124m, \u001b[39m\u001b[38;5;124m\"\u001b[39m\u001b[38;5;241m.\u001b[39mjoin(\u001b[38;5;28msorted\u001b[39m(reg\u001b[38;5;241m.\u001b[39mget_all()\u001b[38;5;241m.\u001b[39mkeys())) \u001b[38;5;129;01mor\u001b[39;00m \u001b[38;5;124m\"\u001b[39m\u001b[38;5;124mnone\u001b[39m\u001b[38;5;124m\"\u001b[39m\n\u001b[0;32m--> 163\u001b[0m     \u001b[38;5;28;01mraise\u001b[39;00m RegistryError(\n\u001b[1;32m    164\u001b[0m         Errors\u001b[38;5;241m.\u001b[39mE893\u001b[38;5;241m.\u001b[39mformat(\n\u001b[1;32m    165\u001b[0m             name\u001b[38;5;241m=\u001b[39mfunc_name, reg_name\u001b[38;5;241m=\u001b[39mregistry_name, available\u001b[38;5;241m=\u001b[39mavailable\n\u001b[1;32m    166\u001b[0m         )\n\u001b[1;32m    167\u001b[0m     ) \u001b[38;5;28;01mfrom\u001b[39;00m \u001b[38;5;28;01mNone\u001b[39;00m\n\u001b[1;32m    168\u001b[0m \u001b[38;5;28;01mreturn\u001b[39;00m func\n",
      "\u001b[0;31mRegistryError\u001b[0m: [E893] Could not find function 'spacy.Local.v1' in function registry 'llm_models'. If you're using a custom function, make sure the code is available. If the function is provided by a third-party package, e.g. spacy-transformers, make sure the package is installed in your environment.\n\nAvailable names: spacy.Ada.v1, spacy.Ada.v2, spacy.Anthropic.v1, spacy.Azure.v1, spacy.Azure.v2, spacy.Babbage.v1, spacy.Babbage.v2, spacy.Claude-1-0.v1, spacy.Claude-1-0.v2, spacy.Claude-1-2.v1, spacy.Claude-1-2.v2, spacy.Claude-1-3.v1, spacy.Claude-1-3.v2, spacy.Claude-1.v1, spacy.Claude-1.v2, spacy.Claude-2.v1, spacy.Claude-2.v2, spacy.Claude-instant-1-1.v1, spacy.Claude-instant-1-1.v2, spacy.Claude-instant-1.v1, spacy.Claude-instant-1.v2, spacy.Code-Davinci.v1, spacy.Code-Davinci.v2, spacy.Cohere.v1, spacy.Command.v1, spacy.Command.v2, spacy.Curie.v1, spacy.Curie.v2, spacy.Davinci.v1, spacy.Davinci.v2, spacy.Dolly.v1, spacy.Falcon.v1, spacy.GPT-3-5.v1, spacy.GPT-3-5.v2, spacy.GPT-3-5.v3, spacy.GPT-4.v1, spacy.GPT-4.v2, spacy.GPT-4.v3, spacy.Google.v1, spacy.HF.v1, spacy.HuggingFace.v1, spacy.Llama2.v1, spacy.Mistral.v1, spacy.NoOp.v1, spacy.OpenAI.v1, spacy.OpenLLaMA.v1, spacy.PaLM.v1, spacy.PaLM.v2, spacy.StableLM.v1, spacy.Text-Ada.v1, spacy.Text-Ada.v2, spacy.Text-Babbage.v1, spacy.Text-Babbage.v2, spacy.Text-Curie.v1, spacy.Text-Curie.v2, spacy.Text-Davinci.v1, spacy.Text-Davinci.v2, spacy.Text-Davinci.v3"
     ]
    }
   ],
   "source": [
    "import logging\n",
    "import spacy_llm\n",
    "from spacy_llm.util import assemble\n",
    "# import outlines.models.openai\n",
    "# resolve entities\n",
    "# import outlines\n",
    "# import outlines.models\n",
    "# login(token=token)\n",
    "\n",
    "\n",
    "# set log level to stream to STDOUT\n",
    "spacy_llm.logger.addHandler(logging.StreamHandler())\n",
    "spacy_llm.logger.setLevel(logging.DEBUG)\n",
    "\n",
    "nlp = assemble(\"config.cfg\")\n",
    "\n"
   ]
  },
  {
   "cell_type": "code",
   "execution_count": 3,
   "metadata": {
    "metadata": {}
   },
   "outputs": [
    {
     "data": {
      "text/plain": [
       "['architectures',\n",
       " 'augmenters',\n",
       " 'batchers',\n",
       " 'callbacks',\n",
       " 'cli',\n",
       " 'datasets',\n",
       " 'displacy_colors',\n",
       " 'factories',\n",
       " 'initializers',\n",
       " 'languages',\n",
       " 'layers',\n",
       " 'lemmatizers',\n",
       " 'llm_misc',\n",
       " 'llm_models',\n",
       " 'llm_queries',\n",
       " 'llm_tasks',\n",
       " 'loggers',\n",
       " 'lookups',\n",
       " 'losses',\n",
       " 'misc',\n",
       " 'models',\n",
       " 'ops',\n",
       " 'optimizers',\n",
       " 'readers',\n",
       " 'schedules',\n",
       " 'scorers',\n",
       " 'tokenizers',\n",
       " 'vectors']"
      ]
     },
     "execution_count": 3,
     "metadata": {},
     "output_type": "execute_result"
    }
   ],
   "source": [
    "import spacy\n",
    "\n",
    "spacy.util.registry.get_registry_names()"
   ]
  },
  {
   "cell_type": "code",
   "execution_count": null,
   "metadata": {},
   "outputs": [],
   "source": []
  },
  {
   "cell_type": "markdown",
   "metadata": {},
   "source": [
    "### Perform NER and relations"
   ]
  },
  {
   "cell_type": "code",
   "execution_count": null,
   "metadata": {
    "metadata": {}
   },
   "outputs": [],
   "source": [
    "import os\n",
    "from time import sleep\n",
    "import pandas as pd\n",
    "from tqdm import tqdm\n",
    "\n",
    "# DATA_PATH = '/datasets/data_pkl/msgs.pkl'\n",
    "DATA_PATH = 'msgs.pkl'\n",
    "\n",
    "with open(DATA_PATH, 'rb') as f:\n",
    "    docs_df = pd.read_pickle(f)\n",
    "    \n",
    "docs = docs_df[0].tolist()\n",
    "\n",
    "\n",
    "entities_rows = []\n",
    "relations_rows = []\n",
    "for doc in tqdm(docs):\n",
    "    enriched_doc = nlp(doc)\n",
    "    # sleep(1) # sleep for openai\n",
    "    ents = enriched_doc.ents\n",
    "    for ent in ents:\n",
    "        entities_rows.append({\"name\": ent.text, \"label\": ent.label_, \"fact\": doc})  # type: ignore\n",
    "    for rel in enriched_doc._.rel:\n",
    "        dep_name = ents[rel.dep].text\n",
    "        dep_label = ents[rel.dep].label_\n",
    "        dest_name = ents[rel.dest].text\n",
    "        dest_label = ents[rel.dest].label_\n",
    "\n",
    "        # ignore self relations\n",
    "        if (dep_name, dep_label) == (dest_name, dest_label):\n",
    "            continue\n",
    "\n",
    "        # ignore dates\n",
    "        if dep_label == \"DATE\" or dest_label == \"DATE\":\n",
    "            continue\n",
    "\n",
    "        relations_rows.append(\n",
    "            {\n",
    "                \"dep_name\": dep_name,\n",
    "                \"dep_label\": dep_label,\n",
    "                \"dest_name\": dest_name,\n",
    "                \"dest_label\": dest_label,\n",
    "                \"rel\": rel.relation,\n",
    "                \"fact\": doc,\n",
    "            }\n",
    "        )\n",
    "\n",
    "\n",
    "entities_df = pd.DataFrame(entities_rows)\n",
    "relations_df = pd.DataFrame(relations_rows)\n",
    "\n",
    "with open('entities.pkl', 'wb') as f:\n",
    "    entities_df.to_pickle(f)\n",
    "    \n",
    "with open('relations.pkl', 'wb') as f:\n",
    "    relations_df.to_pickle(f)"
   ]
  },
  {
   "cell_type": "markdown",
   "metadata": {},
   "source": [
    "### Resolve inconsistencies"
   ]
  },
  {
   "cell_type": "code",
   "execution_count": null,
   "metadata": {
    "metadata": {}
   },
   "outputs": [],
   "source": [
    "# group facts from entities\n",
    "grouped_entities_df = entities_df.groupby([\"name\", \"label\"]).agg({\"fact\": lambda x: list(x)}).reset_index()\n",
    "grouped_relations_df = (\n",
    "    relations_df.groupby([\"dep_name\", \"dep_label\", \"dest_name\", \"dest_label\", \"rel\"]).agg({\"fact\": lambda x: list(x)}).reset_index()\n",
    ")\n",
    "\n",
    "\n",
    "# in some passes, a subset of the labels should be discarded\n",
    "# perhaps, characterize the convo by work, personal, etc and tailor retrieval accordingly\n",
    "\n",
    "# clashing entity types\n",
    "labels_grouped = grouped_entities_df.groupby([\"name\"]).agg({\"label\": lambda x: list(x), \"fact\": lambda x: [item for sublist in x for item in sublist]}).reset_index()\n",
    "clashing_entity_labels = labels_grouped[labels_grouped[\"label\"].apply(lambda x: len(x) > 1)]\n",
    "\n",
    "\n",
    "rels_grouped = grouped_relations_df.groupby([\"dep_name\", \"dest_name\"]).agg({\"rel\": lambda x: list(x), \"fact\": lambda x: [item for sublist in x for item in sublist]}).reset_index()\n",
    "clashing_rels = rels_grouped[rels_grouped[\"rel\"].apply(lambda x: len(x) > 1)]"
   ]
  },
  {
   "cell_type": "code",
   "execution_count": null,
   "metadata": {},
   "outputs": [],
   "source": [
    "\n",
    "\n",
    "# huggingface_hub.login(token=os.environ['HF_TOKEN'])\n",
    "# model = outlines.models.openai(\"gpt-3.5-turbo\") \n",
    "# model = outlines.models.openai(\"gpt-4-0613\")\n",
    "# model = outlines.models.transformers(\"mistralai/Mistral-7B-Instruct-v0.2\", device='mps')\n",
    "# model = outlines.models.llamacpp(\"TheBloke/phi-2-GGUF\", \"phi-2.Q4_K_M.gguf\", device='mps')\n",
    "\n",
    "\n",
    "def pick_winning_label(row: Series) -> str:\n",
    "    print('processing a request after 5 sec delay')\n",
    "    sleep(5)\n",
    "    labels = row[\"label\"]\n",
    "    name = row[\"name\"]\n",
    "    facts = \"\\n\".join(row[\"fact\"])\n",
    "\n",
    "    prompt = f\"\"\"You are an entity resolution assistant. \n",
    "    You must classify the entity with name = {name}\n",
    "    \n",
    "    Use both your inherent knowledge, and these facts derived from chat logs:\n",
    "    {facts} \n",
    "    \"\"\"\n",
    "\n",
    "    generator = outlines.generate.choice(model, labels)\n",
    "    answer = generator(prompt)\n",
    "    print(f\"{name}: Choices = {labels}. WINNER = {answer}\")\n",
    "    return answer\n",
    "\n",
    "\n",
    "new_df = clashing_entity_labels.apply(pick_winning_label, axis=1)\n",
    "\n"
   ]
  }
 ],
 "metadata": {
  "kernelspec": {
   "display_name": "Python 3 (ipykernel)",
   "language": "python",
   "name": "python3"
  },
  "language_info": {
   "codemirror_mode": {
    "name": "ipython",
    "version": 3
   },
   "file_extension": ".py",
   "mimetype": "text/x-python",
   "name": "python",
   "nbconvert_exporter": "python",
   "pygments_lexer": "ipython3",
   "version": "3.11.7"
  }
 },
 "nbformat": 4,
 "nbformat_minor": 2
}
