{
 "cells": [
  {
   "cell_type": "code",
   "execution_count": 3,
   "metadata": {},
   "outputs": [],
   "source": [
    "import logging\n",
    "import spacy\n",
    "import spacy_llm\n",
    "from spacy_llm.util import assemble\n",
    "import spacy\n",
    "import pandas as pd\n",
    "from tqdm import tqdm\n",
    "\n",
    "\n",
    "# add a logger to file notebook.log\n",
    "spacy_llm.logger.addHandler(logging.FileHandler(\"notebook.log\"))\n",
    "spacy_llm.logger.setLevel(logging.DEBUG)\n",
    "\n",
    "\n",
    "nlp = spacy.load(\"en_core_web_md\")\n",
    "nlp = assemble(\"7.cfg\")"
   ]
  },
  {
   "cell_type": "code",
   "execution_count": 4,
   "metadata": {},
   "outputs": [
    {
     "name": "stderr",
     "output_type": "stream",
     "text": [
      " 61%|██████    | 117/192 [22:21<13:59, 11.19s/it]"
     ]
    }
   ],
   "source": [
    "from time import sleep\n",
    "from youbot.store import Store\n",
    "\n",
    "MESSAGES_COUNT = 10\n",
    "docs = Store().get_archival_messages()  # [:MESSAGES_COUNT])\n",
    "\n",
    "\n",
    "entities_df = pd.DataFrame(columns=[\"name\", \"label\", \"fact\"])\n",
    "relations_df = pd.DataFrame(columns=[\"dep_name\", \"dep_label\", \"dest_name\", \"dest_label\", \"rel\", \"fact\"])\n",
    "\n",
    "\n",
    "entities_rows = []\n",
    "relations_rows = []\n",
    "for doc in tqdm(docs):\n",
    "    enriched_doc = nlp(doc)\n",
    "    sleep(0.5)\n",
    "    ents = enriched_doc.ents\n",
    "    for ent in ents:\n",
    "        entities_rows.append({\"name\": ent.text, \"label\": ent.label_, \"fact\": doc})  # type: ignore\n",
    "    for rel in enriched_doc._.rel:\n",
    "        dep_name = ents[rel.dep].text\n",
    "        dep_label = ents[rel.dep].label_\n",
    "        dest_name = ents[rel.dest].text\n",
    "        dest_label = ents[rel.dest].label_\n",
    "\n",
    "        # ignore self relations\n",
    "        if (dep_name, dep_label) == (dest_name, dest_label):\n",
    "            continue\n",
    "\n",
    "        # ignore dates\n",
    "        if dep_label == \"DATE\" or dest_label == \"DATE\":\n",
    "            continue\n",
    "\n",
    "        relations_rows.append(\n",
    "            {\n",
    "                \"dep_name\": dep_name,\n",
    "                \"dep_label\": dep_label,\n",
    "                \"dest_name\": dest_name,\n",
    "                \"dest_label\": dest_label,\n",
    "                \"rel\": rel.relation,\n",
    "                \"fact\": doc,\n",
    "            }\n",
    "        )\n",
    "\n",
    "\n",
    "entities_df = pd.DataFrame(entities_rows)\n",
    "relations_df = pd.DataFrame(relations_rows)"
   ]
  },
  {
   "cell_type": "code",
   "execution_count": null,
   "metadata": {},
   "outputs": [],
   "source": [
    "# group facts from entities\n",
    "grouped_entities_df = entities_df.groupby([\"name\", \"label\"]).agg({\"fact\": lambda x: list(x)}).reset_index()\n",
    "grouped_relations_df = (\n",
    "    relations_df.groupby([\"dep_name\", \"dep_label\", \"dest_name\", \"dest_label\", \"rel\"]).agg({\"fact\": lambda x: list(x)}).reset_index()\n",
    ")\n",
    "\n",
    "\n",
    "# in some passes, a subset of the labels should be discarded\n",
    "\n",
    "# perhaps, characterize the convo by work, personal, etc and tailor retrieval accordingly"
   ]
  },
  {
   "cell_type": "code",
   "execution_count": null,
   "metadata": {},
   "outputs": [],
   "source": [
    "# clashing entity types\n",
    "labels_grouped = grouped_entities_df.groupby([\"name\"]).agg({\"label\": lambda x: list(x)}).reset_index()\n",
    "clashing_entity_labels = labels_grouped[labels_grouped[\"label\"].apply(lambda x: len(x) > 1)]\n",
    "\n",
    "\n",
    "rels_grouped = grouped_relations_df.groupby([\"dep_name\", \"dest_name\"]).agg({\"rel\": lambda x: list(x)}).reset_index()\n",
    "clashing_rels = rels_grouped[rels_grouped[\"rel\"].apply(lambda x: len(x) > 1)]"
   ]
  },
  {
   "cell_type": "code",
   "execution_count": null,
   "metadata": {},
   "outputs": [],
   "source": []
  }
 ],
 "metadata": {
  "kernelspec": {
   "display_name": ".venv",
   "language": "python",
   "name": "python3"
  },
  "language_info": {
   "codemirror_mode": {
    "name": "ipython",
    "version": 3
   },
   "file_extension": ".py",
   "mimetype": "text/x-python",
   "name": "python",
   "nbconvert_exporter": "python",
   "pygments_lexer": "ipython3",
   "version": "3.11.7"
  }
 },
 "nbformat": 4,
 "nbformat_minor": 2
}
