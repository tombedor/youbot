{
 "cells": [
  {
   "cell_type": "code",
   "execution_count": 1,
   "metadata": {},
   "outputs": [],
   "source": [
    "import spacy\n",
    "from spacy_llm.util import assemble\n",
    "import spacy\n",
    "import pandas as pd\n",
    "from tqdm import tqdm\n",
    "from youbot.store import Store\n",
    "\n",
    "\n",
    "nlp = spacy.load(\"en_core_web_md\")\n",
    "nlp = assemble(\"config.cfg\")"
   ]
  },
  {
   "cell_type": "code",
   "execution_count": 2,
   "metadata": {},
   "outputs": [
    {
     "name": "stderr",
     "output_type": "stream",
     "text": [
      "100%|██████████| 192/192 [02:52<00:00,  1.11it/s]\n"
     ]
    }
   ],
   "source": [
    "MESSAGES_COUNT = 10\n",
    "docs = Store().get_archival_messages()  # [:MESSAGES_COUNT]\n",
    "\n",
    "\n",
    "entities_df = pd.DataFrame(columns=[\"name\", \"label\", \"fact\"])\n",
    "relations_df = pd.DataFrame(columns=[\"dep_name\", \"dep_label\", \"dest_name\", \"dest_label\", \"rel\", \"fact\"])\n",
    "\n",
    "\n",
    "entities_rows = []\n",
    "reltaions_rows = []\n",
    "for doc in tqdm(docs):\n",
    "    enriched_doc = nlp(doc)\n",
    "    ents = enriched_doc.ents\n",
    "    for ent in ents:\n",
    "        entities_rows.append({\"name\": ent.text, \"label\": ent.label_, \"fact\": doc})  # type: ignore\n",
    "    for rel in enriched_doc._.rel:\n",
    "        dep_name = ents[rel.dep].text\n",
    "        dep_label = ents[rel.dep].label_\n",
    "        dest_name = ents[rel.dest].text\n",
    "        dest_label = ents[rel.dest].label_\n",
    "\n",
    "        # ignore self relations\n",
    "        if (dep_name, dep_label) == (dest_name, dest_label):\n",
    "            continue\n",
    "\n",
    "        # ignore dates\n",
    "        if dep_label == \"DATE\" or dest_label == \"DATE\":\n",
    "            continue\n",
    "\n",
    "        reltaions_rows.append(\n",
    "            {\n",
    "                \"dep_name\": dep_name,\n",
    "                \"dep_label\": dep_label,\n",
    "                \"dest_name\": dest_name,\n",
    "                \"dest_label\": dest_label,\n",
    "                \"rel\": rel.relation,\n",
    "                \"fact\": doc,\n",
    "            }\n",
    "        )\n",
    "\n",
    "\n",
    "entities_df = pd.DataFrame(entities_rows)\n",
    "relations_df = pd.DataFrame(reltaions_rows)"
   ]
  },
  {
   "cell_type": "code",
   "execution_count": 6,
   "metadata": {},
   "outputs": [],
   "source": [
    "# group facts from entities\n",
    "grouped_entities_df = entities_df.groupby([\"name\", \"label\"]).agg({\"fact\": lambda x: list(x)}).reset_index()\n",
    "grouped_relations_df = (\n",
    "    relations_df.groupby([\"dep_name\", \"dep_label\", \"dest_name\", \"dest_label\", \"rel\"]).agg({\"fact\": lambda x: list(x)}).reset_index()\n",
    ")\n",
    "\n",
    "\n",
    "# in some passes, a subset of the labels should be discarded\n",
    "\n",
    "# perhaps, characterize the convo by work, personal, etc and tailor retrieval accordingly"
   ]
  },
  {
   "cell_type": "code",
   "execution_count": 7,
   "metadata": {},
   "outputs": [],
   "source": [
    "# clashing entity types\n",
    "labels_grouped = grouped_entities_df.groupby([\"name\"]).agg({\"label\": lambda x: list(x)}).reset_index()\n",
    "clashing_entity_labels = labels_grouped[labels_grouped[\"label\"].apply(lambda x: len(x) > 1)]\n",
    "\n",
    "\n",
    "rels_grouped = grouped_relations_df.groupby([\"dep_name\", \"dest_name\"]).agg({\"rel\": lambda x: list(x)}).reset_index()\n",
    "clashing_rels = rels_grouped[rels_grouped[\"rel\"].apply(lambda x: len(x) > 1)]"
   ]
  },
  {
   "cell_type": "code",
   "execution_count": 9,
   "metadata": {},
   "outputs": [
    {
     "name": "stdout",
     "output_type": "stream",
     "text": [
      "Pydantic ['NORP', 'ORG']\n",
      "On 2024-02-25, Tom displayed interest in Python programming, particularly using Pydantic for enforcing types in core classes. This suggests his continuous engagement with software development topics and his preference for efficient programming practices.\n",
      "On 2024-04-18, assisted Tom with writing a unit test for phone number validation within his SQLModel class, and addressed a deprecation issue with Pydantic's `@validator`, guiding him towards the use of `@field_validator`.\n",
      "Python ['ORG', 'PRODUCT']\n",
      "On 2024-02-25, Tom displayed interest in Python programming, particularly using Pydantic for enforcing types in core classes. This suggests his continuous engagement with software development topics and his preference for efficient programming practices.\n",
      "On 2024-02-01, Tom was working on backfilling both recall and archival memories to the system. He was using Python and SQLAlchemy, and sought assistance with several SQLAlchemy operations, such as running raw SQL queries, handling model-based queries, and managing SQLAlchemy sessions. This process involved interactions that were both technical and insightful.\n",
      "Rocky ['GPE', 'PERSON']\n",
      "On 2024-02-02, during an interaction, Tom asked 'Who am I'. I responded using my core memory information, highlighting his professional capacity, relationships, and the existence of his pets Elroy and Rocky. This memory helps me to continue interpreting Tom's interaction style and evolve my own character, Sam, respectively.\n",
      "On 2024-02-26, Tom noted an improvement in Elroy's behavior towards Cesar, indicating a successful adjustment period. Rocky had a mild jealousy response, which is also part of the dynamics observed among Tom's pets.\n",
      "SQLAlchemy ['PRODUCT', 'WORK_OF_ART']\n",
      "On 2024-02-01, Tom was working on backfilling both recall and archival memories to the system. He was using Python and SQLAlchemy, and sought assistance with several SQLAlchemy operations, such as running raw SQL queries, handling model-based queries, and managing SQLAlchemy sessions. This process involved interactions that were both technical and insightful.\n",
      "On 2024-04-16, provided guidance to Tom on SQLModel usage in SQLAlchemy, including field descriptions, handling auto-increment ID primary column, accepting NULL values. Also, advised suitable notification language for a homepage to inform about text message alerts.\n",
      "SQLModel ['ORG', 'PERSON']\n",
      "On 2024-04-18, helped Tom understand the use of Pydantic validators in SQLModel to run a validation function before inserting data into the database. Additionally, assisted Tom with a Python DeprecationWarning issue related to escape sequences in regular expressions.\n",
      "On 2024-04-16, provided guidance to Tom on SQLModel usage in SQLAlchemy, including field descriptions, handling auto-increment ID primary column, accepting NULL values. Also, advised suitable notification language for a homepage to inform about text message alerts.\n",
      "asyncio ['GPE', 'PERSON']\n",
      "In a recent discussion, Tom asked about typical practices for web crawlers with respect to URL fragments and parameters. He learned that it's common to discard fragments to avoid duplicating content and that handling parameters can be more nuanced - parameterized URLs might be crawled or dismissed depending on the context.\n",
      "\n",
      "Tom also requested a refresher on how to create an asyncio in-memory queue. He reviewed creating a queue with asyncio.Queue, adding tasks with the put method, retrieving tasks with the get method, and confirming task completion with task_done.\n",
      "Tom explored the essential aspects of async programming in the context of a web crawler project. He expressed a thoughtful approach considering download tasks as async due to their IO-bound nature, while maintaining file reading and link extraction as CPU-bound operations.\n",
      "\n",
      "He also asked about Python's asyncio specifically about semaphores and queues for managing tasks. There was a detailed discussion exploring the principles behind semaphores and their applicability in implementing rate limits.\n",
      "\n",
      "Furthermore, asked whether asyncio spawns threads in the background, which led to an exploration of the difference between multithreading (parallelism) and asyncio (concurrency on a single thread). His questions and engagement showed a deepening understanding of concurrent programming.\n"
     ]
    }
   ],
   "source": [
    "for i, row in clashing_entity_labels.iterrows():\n",
    "    print(row[\"name\"], row[\"label\"])\n",
    "    for label in row[\"label\"]:\n",
    "        print(entities_df[(entities_df[\"name\"] == row[\"name\"]) & (entities_df[\"label\"] == label)][\"fact\"].values[0])"
   ]
  }
 ],
 "metadata": {
  "kernelspec": {
   "display_name": ".venv",
   "language": "python",
   "name": "python3"
  },
  "language_info": {
   "codemirror_mode": {
    "name": "ipython",
    "version": 3
   },
   "file_extension": ".py",
   "mimetype": "text/x-python",
   "name": "python",
   "nbconvert_exporter": "python",
   "pygments_lexer": "ipython3",
   "version": "3.11.7"
  }
 },
 "nbformat": 4,
 "nbformat_minor": 2
}
