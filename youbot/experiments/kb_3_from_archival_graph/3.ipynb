{
 "cells": [
  {
   "cell_type": "code",
   "execution_count": 1,
   "metadata": {},
   "outputs": [],
   "source": [
    "import spacy\n",
    "from spacy import displacy\n",
    "from spacy_llm.util import assemble\n",
    "import spacy\n",
    "\n",
    "\n",
    "nlp = spacy.load('en_core_web_md')\n",
    "cache_dir = \"./llm_cache\"\n",
    "\n",
    "# actually just do an external config file\n",
    "\n",
    "nlp = assemble(\"config.cfg\")\n"
   ]
  },
  {
   "cell_type": "code",
   "execution_count": 2,
   "metadata": {},
   "outputs": [
    {
     "name": "stderr",
     "output_type": "stream",
     "text": [
      " 77%|███████▋  | 147/192 [02:16<00:51,  1.15s/it]"
     ]
    }
   ],
   "source": [
    "\n",
    "from tqdm import tqdm\n",
    "from youbot.store import Store\n",
    "\n",
    "\n",
    "MESSAGES_COUNT = 10\n",
    "\n",
    "docs = Store().get_archival_messages()#z[:MESSAGES_COUNT]\n",
    "\n",
    "\n",
    "docs_with_rels = []\n",
    "for doc in tqdm(docs):\n",
    "    docs_with_rels.append(nlp(doc))\n",
    "\n"
   ]
  },
  {
   "cell_type": "code",
   "execution_count": null,
   "metadata": {},
   "outputs": [],
   "source": [
    "\n",
    "doc = docs_with_rels[0]\n",
    "\n",
    "# For NER visualization:\n",
    "displacy.render(doc, style='ent', jupyter=True)\n",
    "\n",
    "# For dependency visualization:\n",
    "# displacy.render(doc, style='dep', jupyter=True)"
   ]
  },
  {
   "cell_type": "code",
   "execution_count": null,
   "metadata": {},
   "outputs": [],
   "source": [
    "from typing import Tuple\n",
    "from spacy.tokens.span import Span\n",
    "\n",
    "\n",
    "def get_kb_entity_id(ent: Span) -> Tuple[str, str]:\n",
    "    return (ent.text, ent.label_)\n",
    "\n",
    "# key: entity id\n",
    "# value: set[fact]\n",
    "kb_facts_by_entity = {}\n",
    "\n",
    "# key: (entity id, entity id)\n",
    "# value: set[fact]\n",
    "kb_facts_by_relation = {}\n",
    "\n",
    "\n",
    "for doc in docs_with_rels:\n",
    "    entity_ids = [get_kb_entity_id(ent) for ent in doc.ents]\n",
    "    \n",
    "    for ent in doc.ents:\n",
    "        id = get_kb_entity_id(ent)\n",
    "        s = kb_facts_by_entity.get(id, set())\n",
    "        s.add(doc.text)\n",
    "        kb_facts_by_entity[id] = s\n",
    "    \n",
    "    for rel in doc._.rel:\n",
    "        dep_id = entity_ids[rel.dep]\n",
    "        dest_id = entity_ids[rel.dest]\n",
    "        relation = rel.relation\n",
    "\n",
    "        if dep_id == dest_id:\n",
    "            continue\n",
    "        \n",
    "        \n",
    "        s = kb_facts_by_relation.get((dep_id, relation, dest_id), set())\n",
    "        s.add(doc.text)\n",
    "        kb_facts_by_relation[(dep_id, relation, dest_id)] = s\n",
    "\n",
    "\n",
    " \n",
    "        \n",
    "\n",
    "   "
   ]
  },
  {
   "cell_type": "code",
   "execution_count": null,
   "metadata": {},
   "outputs": [],
   "source": [
    "for k, v in kb_facts_by_relation.items():\n",
    "    print(k, v)\n",
    "    "
   ]
  },
  {
   "cell_type": "code",
   "execution_count": null,
   "metadata": {},
   "outputs": [],
   "source": [
    "# need to restrict which relations can be between which entities,\n",
    "# perhaps zero in on which entities can have which relations \n",
    "# summarize relation?\n",
    "\n",
    "# organize by entity ID, track frequency of both relations and entities\n",
    "# extract incoherent relations: 1 to 1 relations, invalid relationships\n",
    "# for these, if it is close, flag\n"
   ]
  }
 ],
 "metadata": {
  "kernelspec": {
   "display_name": ".venv",
   "language": "python",
   "name": "python3"
  },
  "language_info": {
   "codemirror_mode": {
    "name": "ipython",
    "version": 3
   },
   "file_extension": ".py",
   "mimetype": "text/x-python",
   "name": "python",
   "nbconvert_exporter": "python",
   "pygments_lexer": "ipython3",
   "version": "3.11.7"
  }
 },
 "nbformat": 4,
 "nbformat_minor": 2
}
