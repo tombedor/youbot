{
 "cells": [
  {
   "cell_type": "code",
   "execution_count": null,
   "metadata": {},
   "outputs": [],
   "source": [
    "import spacy\n",
    "from spacy import displacy\n",
    "from spacy_llm.util import assemble\n",
    "import spacy\n",
    "\n",
    "\n",
    "nlp = spacy.load(\"en_core_web_md\")\n",
    "\n",
    "# actually just do an external config file\n",
    "\n",
    "nlp = assemble(\"config.cfg\")"
   ]
  },
  {
   "cell_type": "code",
   "execution_count": null,
   "metadata": {},
   "outputs": [],
   "source": [
    "from tqdm import tqdm\n",
    "from youbot.store import Store\n",
    "\n",
    "\n",
    "MESSAGES_COUNT = 10\n",
    "\n",
    "docs = Store().get_archival_messages()  # z[:MESSAGES_COUNT]\n",
    "\n",
    "\n",
    "docs_with_rels = []\n",
    "for doc in tqdm(docs):\n",
    "    docs_with_rels.append(nlp(doc))"
   ]
  },
  {
   "cell_type": "code",
   "execution_count": null,
   "metadata": {},
   "outputs": [],
   "source": [
    "doc = docs_with_rels[0]\n",
    "\n",
    "# For NER visualization:\n",
    "displacy.render(doc, style=\"ent\", jupyter=True)\n",
    "\n",
    "# For dependency visualization:\n",
    "# displacy.render(doc, style='dep', jupyter=True)"
   ]
  },
  {
   "cell_type": "code",
   "execution_count": null,
   "metadata": {},
   "outputs": [],
   "source": [
    "from typing import Tuple\n",
    "from spacy.tokens.span import Span\n",
    "\n",
    "\n",
    "def get_kb_entity_id(ent: Span) -> Tuple[str, str]:\n",
    "    return (ent.text, ent.label_)\n",
    "\n",
    "\n",
    "# key: entity id\n",
    "# value: set[fact]\n",
    "kb_facts_by_entity = {}\n",
    "\n",
    "# key: (entity id, entity id)\n",
    "# value: set[fact]\n",
    "kb_facts_by_relation = {}\n",
    "\n",
    "kb_entity_counts = {}\n",
    "\n",
    "\n",
    "for doc in docs_with_rels:\n",
    "    entity_ids = [get_kb_entity_id(ent) for ent in doc.ents]\n",
    "\n",
    "    for ent in doc.ents:\n",
    "        id = get_kb_entity_id(ent)\n",
    "        s = kb_facts_by_entity.get(id, set())\n",
    "        s.add(doc.text)\n",
    "        kb_facts_by_entity[id] = s\n",
    "\n",
    "        kb_entity_counts[id] = kb_entity_counts.get(id, 0) + 1\n",
    "\n",
    "    for rel in doc._.rel:\n",
    "        dep_id = entity_ids[rel.dep]\n",
    "        dest_id = entity_ids[rel.dest]\n",
    "        relation = rel.relation\n",
    "\n",
    "        if dep_id == dest_id:\n",
    "            continue\n",
    "\n",
    "        s = kb_facts_by_relation.get((dep_id, relation, dest_id), set())\n",
    "        s.add(doc.text)\n",
    "        kb_facts_by_relation[(dep_id, relation, dest_id)] = s\n",
    "\n",
    "\n",
    "def get_entities_by_name(name: str):\n",
    "    return [k for k in kb_entity_counts.keys() if k[0] == name]"
   ]
  },
  {
   "cell_type": "code",
   "execution_count": null,
   "metadata": {},
   "outputs": [],
   "source": [
    "names = {k[0] for k in kb_entity_counts.keys()}\n",
    "\n",
    "clashing_entity_names = set()\n",
    "for n in names:\n",
    "    if len(get_entities_by_name(n)) > 1:\n",
    "        clashing_entity_names.add(n)"
   ]
  },
  {
   "cell_type": "code",
   "execution_count": null,
   "metadata": {},
   "outputs": [],
   "source": [
    "relation_types = {}\n",
    "\n",
    "for dep, type, dest in kb_facts_by_relation.keys():\n",
    "    key = (dep, dest)\n",
    "    s = relation_types.get(key, set())\n",
    "    s.add(type)\n",
    "    relation_types[key] = s\n",
    "\n",
    "clashing_relations = {k: v for k, v in relation_types.items() if len(v) > 1}"
   ]
  },
  {
   "cell_type": "code",
   "execution_count": null,
   "metadata": {},
   "outputs": [],
   "source": [
    "print(clashing_entity_names)\n",
    "print(clashing_relations)\n",
    "\n",
    "\n",
    "# need to restrict which relations can be between which entities,\n",
    "# perhaps zero in on which entities can have which relations\n",
    "# summarize relation?\n",
    "\n",
    "# organize by entity ID, track frequency of both relations and entities\n",
    "# extract incoherent relations: 1 to 1 relations, invalid relationships\n",
    "# for these, if it is close, flag"
   ]
  }
 ],
 "metadata": {
  "kernelspec": {
   "display_name": ".venv",
   "language": "python",
   "name": "python3"
  },
  "language_info": {
   "codemirror_mode": {
    "name": "ipython",
    "version": 3
   },
   "file_extension": ".py",
   "mimetype": "text/x-python",
   "name": "python",
   "nbconvert_exporter": "python",
   "pygments_lexer": "ipython3",
   "version": "3.11.7"
  }
 },
 "nbformat": 4,
 "nbformat_minor": 2
}
