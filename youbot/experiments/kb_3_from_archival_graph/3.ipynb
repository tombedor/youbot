{
 "cells": [
  {
   "cell_type": "code",
   "execution_count": 1,
   "metadata": {},
   "outputs": [
    {
     "name": "stderr",
     "output_type": "stream",
     "text": [
      "/Users/tombedor/development/youbot/.venv/lib/python3.11/site-packages/tqdm/auto.py:21: TqdmWarning: IProgress not found. Please update jupyter and ipywidgets. See https://ipywidgets.readthedocs.io/en/stable/user_install.html\n",
      "  from .autonotebook import tqdm as notebook_tqdm\n"
     ]
    }
   ],
   "source": [
    "import spacy\n",
    "from spacy import displacy\n",
    "from spacy_llm.util import assemble\n",
    "import spacy\n",
    "\n",
    "\n",
    "nlp = spacy.load('en_core_web_md')\n",
    "cache_dir = \"./llm_cache\"\n",
    "\n",
    "# actually just do an external config file\n",
    "\n",
    "nlp = assemble(\"config.cfg\")\n"
   ]
  },
  {
   "cell_type": "code",
   "execution_count": null,
   "metadata": {},
   "outputs": [],
   "source": [
    "\n",
    "llm_config = {\n",
    "    \"task\": {\n",
    "        \"@llm_tasks\": \"spacy.REL.v1\",\n",
    "        \"labels\": [\"work for\", \"founder of\", \"interested in\", \"lives in\", \"associated with\", \"attendees of\", \"organizer of\"]\n",
    "    },\n",
    "    \"model\": {\n",
    "        \"@llm_models\": \"spacy.Dolly.v1\",\n",
    "        \"name\": \"dolly-v2-3b\"  # For better performance, use 'dolly-v2-12b' instead\n",
    "    },\n",
    "    \"cache\": cache_dir,\n",
    "    \"save_io\": True  # or False, depending on your needs\n",
    "}\n",
    "nlp.add_pipe(\"llm\", config=llm_config)"
   ]
  },
  {
   "cell_type": "code",
   "execution_count": null,
   "metadata": {},
   "outputs": [],
   "source": [
    "\n",
    "from youbot.store import Store\n",
    "\n",
    "\n",
    "MESSAGES_COUNT = 10\n",
    "\n",
    "\n",
    "# 0. Create documents as transcription logs of converstaions\n",
    "docs = Store().get_archival_messages()[:MESSAGES_COUNT]\n"
   ]
  },
  {
   "cell_type": "code",
   "execution_count": null,
   "metadata": {},
   "outputs": [],
   "source": [
    "\n",
    "# For NER visualization:\n",
    "displacy.render(doc, style='ent', jupyter=True)\n",
    "\n",
    "# For dependency visualization:\n",
    "displacy.render(doc, style='dep', jupyter=True)"
   ]
  }
 ],
 "metadata": {
  "kernelspec": {
   "display_name": ".venv",
   "language": "python",
   "name": "python3"
  },
  "language_info": {
   "codemirror_mode": {
    "name": "ipython",
    "version": 3
   },
   "file_extension": ".py",
   "mimetype": "text/x-python",
   "name": "python",
   "nbconvert_exporter": "python",
   "pygments_lexer": "ipython3",
   "version": "3.11.7"
  }
 },
 "nbformat": 4,
 "nbformat_minor": 2
}
